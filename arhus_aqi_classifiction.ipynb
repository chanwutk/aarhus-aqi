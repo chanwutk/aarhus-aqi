{
 "cells": [
  {
   "cell_type": "code",
   "execution_count": 1,
   "id": "2f0331ba-5975-43bb-b262-f47002b33f7c",
   "metadata": {},
   "outputs": [],
   "source": [
    "import os\n",
    "import json\n",
    "import numpy as np\n",
    "from sklearn.neural_network import MLPClassifier\n",
    "from sklearn.multiclass import OneVsRestClassifier, OneVsOneClassifier, OutputCodeClassifier\n",
    "from sklearn.metrics import confusion_matrix\n",
    "from sklearn.svm import LinearSVC\n",
    "from sklearn.model_selection import train_test_split\n",
    "import altair as alt"
   ]
  },
  {
   "cell_type": "code",
   "execution_count": 2,
   "id": "a0ab113a-96e2-4a5d-9467-0612493a0d10",
   "metadata": {},
   "outputs": [],
   "source": [
    "data_dir = 'dataset/larger'"
   ]
  },
  {
   "cell_type": "code",
   "execution_count": 3,
   "id": "b22a8be9-5ff6-4776-acaa-d9f97007134a",
   "metadata": {},
   "outputs": [
    {
     "data": {
      "text/plain": [
       "(12185, 18)"
      ]
     },
     "execution_count": 3,
     "metadata": {},
     "output_type": "execute_result"
    }
   ],
   "source": [
    "with open(os.path.join(data_dir, 'dataset_x.json'), 'r') as f:\n",
    "    X = np.array(json.load(f))\n",
    "X.shape"
   ]
  },
  {
   "cell_type": "code",
   "execution_count": 4,
   "id": "cf81b562-e77a-470e-9ea6-c41c37515a5f",
   "metadata": {},
   "outputs": [
    {
     "name": "stdout",
     "output_type": "stream",
     "text": [
      "[0, 492, 283, 788, 1139, 9483]\n",
      "[5 5 5 ... 5 5 5]\n"
     ]
    }
   ],
   "source": [
    "with open(os.path.join(data_dir, 'dataset_y.json'), 'r') as f:\n",
    "    _y = [l.index(1) for l in json.load(f)]\n",
    "    y = np.array([i for i in _y])\n",
    "    # y = np.array([i[0] * 24 >= 75 for i in json.load(f)])\n",
    "count = [0,0,0,0,0,0]\n",
    "for i in y:\n",
    "    count[i] += 1\n",
    "print(count)\n",
    "print(y)"
   ]
  },
  {
   "cell_type": "code",
   "execution_count": 5,
   "id": "73196f44-da57-44d1-8f52-370d35ad9002",
   "metadata": {},
   "outputs": [],
   "source": [
    "category = [\n",
    "    \"good\",\n",
    "    \"fair\",\n",
    "    \"moderate\",\n",
    "    \"poor\",\n",
    "    \"very poor\",\n",
    "    \"extremely poor\",\n",
    "]"
   ]
  },
  {
   "cell_type": "code",
   "execution_count": 6,
   "id": "94b215bc-248f-4248-b9b5-7c3118285399",
   "metadata": {},
   "outputs": [],
   "source": [
    "def dist_chart(data):\n",
    "    return alt.Chart.from_dict({\n",
    "        \"width\": 600,\n",
    "        \"height\": 300,\n",
    "        \"title\": \"Distribution of the data points for each air quality category\",\n",
    "        \"data\": {\n",
    "            \"values\": [{\"num_points\": c, \"category\": category[i]} for i, c in enumerate(data)]\n",
    "        },\n",
    "        \"encoding\": {\n",
    "            \"x\": {\"field\": \"num_points\", \"type\": \"quantitative\", \"title\": \"Number of data points\"},\n",
    "            \"y\": {\"field\": \"category\", \"type\": \"nominal\", \"sort\": None, \"title\": \"Category\"},\n",
    "        },\n",
    "        \"layer\": [\n",
    "            {\"mark\": \"bar\"},\n",
    "            {\n",
    "                \"mark\": {\"type\": \"text\", \"dx\": 2, \"align\": \"left\"},\n",
    "                \"encoding\": {\n",
    "                    \"text\": {\"field\": \"num_points\", \"type\": \"quantitative\"}\n",
    "                }\n",
    "            }\n",
    "        ]\n",
    "    })"
   ]
  },
  {
   "cell_type": "code",
   "execution_count": 7,
   "id": "cecb9a54-7ba0-42e6-a91c-e675c919f47f",
   "metadata": {},
   "outputs": [
    {
     "data": {
      "text/html": [
       "\n",
       "<div id=\"altair-viz-37d7dfe25d4c4d6e893d0c56fdec29e0\"></div>\n",
       "<script type=\"text/javascript\">\n",
       "  var VEGA_DEBUG = (typeof VEGA_DEBUG == \"undefined\") ? {} : VEGA_DEBUG;\n",
       "  (function(spec, embedOpt){\n",
       "    let outputDiv = document.currentScript.previousElementSibling;\n",
       "    if (outputDiv.id !== \"altair-viz-37d7dfe25d4c4d6e893d0c56fdec29e0\") {\n",
       "      outputDiv = document.getElementById(\"altair-viz-37d7dfe25d4c4d6e893d0c56fdec29e0\");\n",
       "    }\n",
       "    const paths = {\n",
       "      \"vega\": \"https://cdn.jsdelivr.net/npm//vega@5?noext\",\n",
       "      \"vega-lib\": \"https://cdn.jsdelivr.net/npm//vega-lib?noext\",\n",
       "      \"vega-lite\": \"https://cdn.jsdelivr.net/npm//vega-lite@4.17.0?noext\",\n",
       "      \"vega-embed\": \"https://cdn.jsdelivr.net/npm//vega-embed@6?noext\",\n",
       "    };\n",
       "\n",
       "    function maybeLoadScript(lib, version) {\n",
       "      var key = `${lib.replace(\"-\", \"\")}_version`;\n",
       "      return (VEGA_DEBUG[key] == version) ?\n",
       "        Promise.resolve(paths[lib]) :\n",
       "        new Promise(function(resolve, reject) {\n",
       "          var s = document.createElement('script');\n",
       "          document.getElementsByTagName(\"head\")[0].appendChild(s);\n",
       "          s.async = true;\n",
       "          s.onload = () => {\n",
       "            VEGA_DEBUG[key] = version;\n",
       "            return resolve(paths[lib]);\n",
       "          };\n",
       "          s.onerror = () => reject(`Error loading script: ${paths[lib]}`);\n",
       "          s.src = paths[lib];\n",
       "        });\n",
       "    }\n",
       "\n",
       "    function showError(err) {\n",
       "      outputDiv.innerHTML = `<div class=\"error\" style=\"color:red;\">${err}</div>`;\n",
       "      throw err;\n",
       "    }\n",
       "\n",
       "    function displayChart(vegaEmbed) {\n",
       "      vegaEmbed(outputDiv, spec, embedOpt)\n",
       "        .catch(err => showError(`Javascript Error: ${err.message}<br>This usually means there's a typo in your chart specification. See the javascript console for the full traceback.`));\n",
       "    }\n",
       "\n",
       "    if(typeof define === \"function\" && define.amd) {\n",
       "      requirejs.config({paths});\n",
       "      require([\"vega-embed\"], displayChart, err => showError(`Error loading script: ${err.message}`));\n",
       "    } else {\n",
       "      maybeLoadScript(\"vega\", \"5\")\n",
       "        .then(() => maybeLoadScript(\"vega-lite\", \"4.17.0\"))\n",
       "        .then(() => maybeLoadScript(\"vega-embed\", \"6\"))\n",
       "        .catch(showError)\n",
       "        .then(() => displayChart(vegaEmbed));\n",
       "    }\n",
       "  })({\"config\": {\"view\": {\"continuousWidth\": 400, \"continuousHeight\": 300}}, \"layer\": [{\"mark\": \"bar\"}, {\"mark\": {\"type\": \"text\", \"align\": \"left\", \"dx\": 2}, \"encoding\": {\"text\": {\"field\": \"num_points\", \"type\": \"quantitative\"}}}], \"data\": {\"name\": \"data-6609342f5a2ff399f6dcee66021ca042\"}, \"encoding\": {\"x\": {\"field\": \"num_points\", \"type\": \"quantitative\", \"title\": \"Number of data points\"}, \"y\": {\"field\": \"category\", \"type\": \"nominal\", \"sort\": null, \"title\": \"Category\"}}, \"height\": 300, \"title\": \"Distribution of the data points for each air quality category\", \"width\": 600, \"$schema\": \"https://vega.github.io/schema/vega-lite/v4.17.0.json\", \"datasets\": {\"data-6609342f5a2ff399f6dcee66021ca042\": [{\"num_points\": 0, \"category\": \"good\"}, {\"num_points\": 492, \"category\": \"fair\"}, {\"num_points\": 283, \"category\": \"moderate\"}, {\"num_points\": 788, \"category\": \"poor\"}, {\"num_points\": 1139, \"category\": \"very poor\"}, {\"num_points\": 9483, \"category\": \"extremely poor\"}]}}, {\"mode\": \"vega-lite\"});\n",
       "</script>"
      ],
      "text/plain": [
       "alt.LayerChart(...)"
      ]
     },
     "execution_count": 7,
     "metadata": {},
     "output_type": "execute_result"
    }
   ],
   "source": [
    "dist_chart(count)"
   ]
  },
  {
   "cell_type": "code",
   "execution_count": 8,
   "id": "69ad5321-979e-46c7-b422-4dac331e9f09",
   "metadata": {
    "tags": []
   },
   "outputs": [
    {
     "name": "stdout",
     "output_type": "stream",
     "text": [
      "[0, 492, 283, 480, 564, 557]\n"
     ]
    }
   ],
   "source": [
    "import random\n",
    "to_keep = []\n",
    "for i in range(y.shape[0]):\n",
    "    if y[i] == 5:\n",
    "        if random.random() < 0.3 / 5.0:\n",
    "            to_keep.append(i)\n",
    "    elif y[i] == 4:\n",
    "        if random.random() < 1 / 2:\n",
    "            to_keep.append(i)\n",
    "    elif y[i] == 3:\n",
    "        if random.random() < 3 / 5:\n",
    "            to_keep.append(i)\n",
    "    # if y[i]:\n",
    "    #     if random.random() < 1.5 / 5.0:\n",
    "    #         to_keep.append(i)\n",
    "    else:\n",
    "        to_keep.append(i)\n",
    "count2 = [0,0,0,0,0,0]\n",
    "for i in y[to_keep]:\n",
    "    count2[int(i)] += 1\n",
    "print(count2)"
   ]
  },
  {
   "cell_type": "code",
   "execution_count": 9,
   "id": "aef21ffd-3c0c-4467-a670-2596b1b069bb",
   "metadata": {},
   "outputs": [
    {
     "data": {
      "text/html": [
       "\n",
       "<div id=\"altair-viz-c932f7bd8f124028b031821c71dfff0c\"></div>\n",
       "<script type=\"text/javascript\">\n",
       "  var VEGA_DEBUG = (typeof VEGA_DEBUG == \"undefined\") ? {} : VEGA_DEBUG;\n",
       "  (function(spec, embedOpt){\n",
       "    let outputDiv = document.currentScript.previousElementSibling;\n",
       "    if (outputDiv.id !== \"altair-viz-c932f7bd8f124028b031821c71dfff0c\") {\n",
       "      outputDiv = document.getElementById(\"altair-viz-c932f7bd8f124028b031821c71dfff0c\");\n",
       "    }\n",
       "    const paths = {\n",
       "      \"vega\": \"https://cdn.jsdelivr.net/npm//vega@5?noext\",\n",
       "      \"vega-lib\": \"https://cdn.jsdelivr.net/npm//vega-lib?noext\",\n",
       "      \"vega-lite\": \"https://cdn.jsdelivr.net/npm//vega-lite@4.17.0?noext\",\n",
       "      \"vega-embed\": \"https://cdn.jsdelivr.net/npm//vega-embed@6?noext\",\n",
       "    };\n",
       "\n",
       "    function maybeLoadScript(lib, version) {\n",
       "      var key = `${lib.replace(\"-\", \"\")}_version`;\n",
       "      return (VEGA_DEBUG[key] == version) ?\n",
       "        Promise.resolve(paths[lib]) :\n",
       "        new Promise(function(resolve, reject) {\n",
       "          var s = document.createElement('script');\n",
       "          document.getElementsByTagName(\"head\")[0].appendChild(s);\n",
       "          s.async = true;\n",
       "          s.onload = () => {\n",
       "            VEGA_DEBUG[key] = version;\n",
       "            return resolve(paths[lib]);\n",
       "          };\n",
       "          s.onerror = () => reject(`Error loading script: ${paths[lib]}`);\n",
       "          s.src = paths[lib];\n",
       "        });\n",
       "    }\n",
       "\n",
       "    function showError(err) {\n",
       "      outputDiv.innerHTML = `<div class=\"error\" style=\"color:red;\">${err}</div>`;\n",
       "      throw err;\n",
       "    }\n",
       "\n",
       "    function displayChart(vegaEmbed) {\n",
       "      vegaEmbed(outputDiv, spec, embedOpt)\n",
       "        .catch(err => showError(`Javascript Error: ${err.message}<br>This usually means there's a typo in your chart specification. See the javascript console for the full traceback.`));\n",
       "    }\n",
       "\n",
       "    if(typeof define === \"function\" && define.amd) {\n",
       "      requirejs.config({paths});\n",
       "      require([\"vega-embed\"], displayChart, err => showError(`Error loading script: ${err.message}`));\n",
       "    } else {\n",
       "      maybeLoadScript(\"vega\", \"5\")\n",
       "        .then(() => maybeLoadScript(\"vega-lite\", \"4.17.0\"))\n",
       "        .then(() => maybeLoadScript(\"vega-embed\", \"6\"))\n",
       "        .catch(showError)\n",
       "        .then(() => displayChart(vegaEmbed));\n",
       "    }\n",
       "  })({\"config\": {\"view\": {\"continuousWidth\": 400, \"continuousHeight\": 300}}, \"layer\": [{\"mark\": \"bar\"}, {\"mark\": {\"type\": \"text\", \"align\": \"left\", \"dx\": 2}, \"encoding\": {\"text\": {\"field\": \"num_points\", \"type\": \"quantitative\"}}}], \"data\": {\"name\": \"data-0d8169a44711da3f2dee3326f0b35117\"}, \"encoding\": {\"x\": {\"field\": \"num_points\", \"type\": \"quantitative\", \"title\": \"Number of data points\"}, \"y\": {\"field\": \"category\", \"type\": \"nominal\", \"sort\": null, \"title\": \"Category\"}}, \"height\": 300, \"title\": \"Distribution of the data points for each air quality category\", \"width\": 600, \"$schema\": \"https://vega.github.io/schema/vega-lite/v4.17.0.json\", \"datasets\": {\"data-0d8169a44711da3f2dee3326f0b35117\": [{\"num_points\": 0, \"category\": \"good\"}, {\"num_points\": 492, \"category\": \"fair\"}, {\"num_points\": 283, \"category\": \"moderate\"}, {\"num_points\": 480, \"category\": \"poor\"}, {\"num_points\": 564, \"category\": \"very poor\"}, {\"num_points\": 557, \"category\": \"extremely poor\"}]}}, {\"mode\": \"vega-lite\"});\n",
       "</script>"
      ],
      "text/plain": [
       "alt.LayerChart(...)"
      ]
     },
     "execution_count": 9,
     "metadata": {},
     "output_type": "execute_result"
    }
   ],
   "source": [
    "dist_chart(count2)"
   ]
  },
  {
   "cell_type": "code",
   "execution_count": 10,
   "id": "c96b00df-0ccb-472e-8575-f977e8e754ea",
   "metadata": {},
   "outputs": [],
   "source": [
    "# y = X[:, 14]"
   ]
  },
  {
   "cell_type": "code",
   "execution_count": 11,
   "id": "d51a8758-450b-47db-bfa3-e48b7a5ae478",
   "metadata": {},
   "outputs": [],
   "source": [
    "# import random\n",
    "# X = np.array([[random.random(), random.random(), random.random(), random.random(), random.random(), random.random(), random.random(), i % 10] for i in range(1000)])\n",
    "# y = np.array([i % 10 for i in range(1000)])"
   ]
  },
  {
   "cell_type": "code",
   "execution_count": 38,
   "id": "a59298b6-8a34-4640-adaa-ca5ef7288de4",
   "metadata": {},
   "outputs": [],
   "source": [
    "columns = [5, 7, 9, 10, 14, 15, 16, 17]"
   ]
  },
  {
   "cell_type": "code",
   "execution_count": 39,
   "id": "c0d883e3-5dd9-4294-807f-6110c7074b54",
   "metadata": {},
   "outputs": [],
   "source": [
    "X_train, X_test, y_train, y_test = train_test_split(X[to_keep, :][:, columns], y[to_keep], random_state = 0)"
   ]
  },
  {
   "cell_type": "code",
   "execution_count": 40,
   "id": "ae3dbb69-fa93-4ab1-a166-be92badf92d2",
   "metadata": {},
   "outputs": [
    {
     "data": {
      "text/plain": [
       "(1782, 8)"
      ]
     },
     "execution_count": 40,
     "metadata": {},
     "output_type": "execute_result"
    }
   ],
   "source": [
    "X_train.shape"
   ]
  },
  {
   "cell_type": "code",
   "execution_count": 41,
   "id": "e7434415-f9c1-449e-ae97-c629652652bc",
   "metadata": {},
   "outputs": [
    {
     "data": {
      "text/plain": [
       "(594, 8)"
      ]
     },
     "execution_count": 41,
     "metadata": {},
     "output_type": "execute_result"
    }
   ],
   "source": [
    "X_test.shape"
   ]
  },
  {
   "cell_type": "code",
   "execution_count": 42,
   "id": "6899e5ae-33de-4f66-ad55-6a5e6b3d7335",
   "metadata": {},
   "outputs": [],
   "source": [
    "model = MLPClassifier(\n",
    "    hidden_layer_sizes=(100, 100, 100),\n",
    "    random_state=1,\n",
    "    max_iter=500,\n",
    ")\n",
    "# model = LinearSVC(random_state=0)"
   ]
  },
  {
   "cell_type": "code",
   "execution_count": 43,
   "id": "cbcb1740-9a05-4876-93cf-219b1dda7802",
   "metadata": {
    "tags": []
   },
   "outputs": [],
   "source": [
    "clf = OneVsOneClassifier(model).fit(X_train, y_train)"
   ]
  },
  {
   "cell_type": "code",
   "execution_count": 44,
   "id": "9c35ea21-188a-4f5f-bda3-111ea19c5015",
   "metadata": {
    "tags": []
   },
   "outputs": [
    {
     "data": {
      "text/plain": [
       "280"
      ]
     },
     "execution_count": 44,
     "metadata": {},
     "output_type": "execute_result"
    }
   ],
   "source": [
    "sum(clf.predict(X_test) == y_test)"
   ]
  },
  {
   "cell_type": "code",
   "execution_count": 45,
   "id": "bd6bb996-b50d-42a1-a183-be40f2205e4b",
   "metadata": {},
   "outputs": [
    {
     "data": {
      "text/plain": [
       "(594,)"
      ]
     },
     "execution_count": 45,
     "metadata": {},
     "output_type": "execute_result"
    }
   ],
   "source": [
    "y_test.shape"
   ]
  },
  {
   "cell_type": "code",
   "execution_count": 46,
   "id": "b4d31ff0-8e30-4b46-9079-05853a4f04cd",
   "metadata": {},
   "outputs": [
    {
     "data": {
      "text/plain": [
       "1883"
      ]
     },
     "execution_count": 46,
     "metadata": {},
     "output_type": "execute_result"
    }
   ],
   "source": [
    "sum(y_test)"
   ]
  },
  {
   "cell_type": "code",
   "execution_count": 47,
   "id": "eb624b8d-fa3b-4587-9860-1bfc441741c7",
   "metadata": {},
   "outputs": [],
   "source": [
    "accuracy = clf.score(X_test, y_test)"
   ]
  },
  {
   "cell_type": "code",
   "execution_count": 48,
   "id": "c6b5b20d-ac76-40a2-9227-fdf7bc4fb194",
   "metadata": {},
   "outputs": [
    {
     "data": {
      "text/plain": [
       "0.4713804713804714"
      ]
     },
     "execution_count": 48,
     "metadata": {},
     "output_type": "execute_result"
    }
   ],
   "source": [
    "accuracy"
   ]
  },
  {
   "cell_type": "code",
   "execution_count": 49,
   "id": "eda58765-83d6-4f66-85e8-6ffa0ddb4c20",
   "metadata": {},
   "outputs": [],
   "source": [
    "cm = confusion_matrix(y_test, clf.predict(X_test))"
   ]
  },
  {
   "cell_type": "code",
   "execution_count": 50,
   "id": "156c4aef-96df-4afb-8455-84a0f6ffb9a1",
   "metadata": {},
   "outputs": [
    {
     "data": {
      "text/plain": [
       "array([[73, 15, 10, 11, 10],\n",
       "       [23, 20, 13,  8, 14],\n",
       "       [13,  7, 38, 31, 27],\n",
       "       [ 6,  8, 18, 72, 41],\n",
       "       [ 5,  6,  8, 40, 77]])"
      ]
     },
     "execution_count": 50,
     "metadata": {},
     "output_type": "execute_result"
    }
   ],
   "source": [
    "cm"
   ]
  },
  {
   "cell_type": "code",
   "execution_count": null,
   "id": "d51d9f85-1096-42d2-89e4-a40ec53a9cce",
   "metadata": {},
   "outputs": [],
   "source": []
  },
  {
   "cell_type": "code",
   "execution_count": null,
   "id": "6a52d0a8-19b1-4134-befa-a1af6997a5b7",
   "metadata": {},
   "outputs": [],
   "source": []
  },
  {
   "cell_type": "code",
   "execution_count": null,
   "id": "21c5dedc-3ae0-4027-97ea-7a264cf593e7",
   "metadata": {},
   "outputs": [],
   "source": []
  }
 ],
 "metadata": {
  "kernelspec": {
   "display_name": "Python 3 (ipykernel)",
   "language": "python",
   "name": "python3"
  },
  "language_info": {
   "codemirror_mode": {
    "name": "ipython",
    "version": 3
   },
   "file_extension": ".py",
   "mimetype": "text/x-python",
   "name": "python",
   "nbconvert_exporter": "python",
   "pygments_lexer": "ipython3",
   "version": "3.8.12"
  }
 },
 "nbformat": 4,
 "nbformat_minor": 5
}
