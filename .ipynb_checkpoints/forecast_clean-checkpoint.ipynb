{
 "cells": [
  {
   "cell_type": "code",
   "execution_count": 1,
   "id": "d0c792fc-ddc0-4715-b20e-f5b95a7dd852",
   "metadata": {},
   "outputs": [],
   "source": [
    "import json\n",
    "import pytz\n",
    "import datetime"
   ]
  },
  {
   "cell_type": "code",
   "execution_count": 2,
   "id": "707b05e7-09df-4079-be59-cb49310ed9f6",
   "metadata": {},
   "outputs": [],
   "source": [
    "with open(\"forecast.json\", \"r\") as f:\n",
    "    data = json.load(f)[\"hours\"]"
   ]
  },
  {
   "cell_type": "code",
   "execution_count": 3,
   "id": "7b9bfa40-8169-4e6a-953f-21e4d035c0ba",
   "metadata": {},
   "outputs": [],
   "source": [
    "name_map = {\n",
    "    \"airTemperature\": \"mean_temp\",\n",
    "    \"precipitation\": \"acc_precip\",\n",
    "    \"windSpeed\": \"mean_wind_speed\",\n",
    "    \"time\": \"time\"\n",
    "}"
   ]
  },
  {
   "cell_type": "code",
   "execution_count": 4,
   "id": "f3f90d12-c2ae-4240-b095-a56279850c0d",
   "metadata": {},
   "outputs": [],
   "source": [
    "import datetime\n",
    "t_data = [\n",
    "    {\n",
    "        name_map[k]: sum(v.values()) / len(v)\n",
    "        if k != \"time\"\n",
    "        else datetime.datetime.fromisoformat(v).astimezone(pytz.timezone('Europe/Copenhagen'))\n",
    "        for k, v in d.items()\n",
    "    }\n",
    "    for d in data\n",
    "]"
   ]
  },
  {
   "cell_type": "code",
   "execution_count": 5,
   "id": "5c6467f8-22a3-43cb-b9e1-eb62a8fe61e1",
   "metadata": {
    "tags": []
   },
   "outputs": [
    {
     "data": {
      "text/plain": [
       "[{'mean_temp': 9.49,\n",
       "  'acc_precip': 0.0,\n",
       "  'time': datetime.datetime(2022, 6, 16, 2, 0, tzinfo=<DstTzInfo 'Europe/Copenhagen' CEST+2:00:00 DST>),\n",
       "  'mean_wind_speed': 2.765},\n",
       " {'mean_temp': 9.355,\n",
       "  'acc_precip': 0.0,\n",
       "  'time': datetime.datetime(2022, 6, 16, 3, 0, tzinfo=<DstTzInfo 'Europe/Copenhagen' CEST+2:00:00 DST>),\n",
       "  'mean_wind_speed': 2.7725},\n",
       " {'mean_temp': 9.5275,\n",
       "  'acc_precip': 0.0,\n",
       "  'time': datetime.datetime(2022, 6, 16, 4, 0, tzinfo=<DstTzInfo 'Europe/Copenhagen' CEST+2:00:00 DST>),\n",
       "  'mean_wind_speed': 2.975},\n",
       " {'mean_temp': 9.55,\n",
       "  'acc_precip': 0.0,\n",
       "  'time': datetime.datetime(2022, 6, 16, 5, 0, tzinfo=<DstTzInfo 'Europe/Copenhagen' CEST+2:00:00 DST>),\n",
       "  'mean_wind_speed': 3.1325000000000003},\n",
       " {'mean_temp': 10.4675,\n",
       "  'acc_precip': 0.0,\n",
       "  'time': datetime.datetime(2022, 6, 16, 6, 0, tzinfo=<DstTzInfo 'Europe/Copenhagen' CEST+2:00:00 DST>),\n",
       "  'mean_wind_speed': 3.61}]"
      ]
     },
     "execution_count": 5,
     "metadata": {},
     "output_type": "execute_result"
    }
   ],
   "source": [
    "t_data[:5]"
   ]
  },
  {
   "cell_type": "code",
   "execution_count": 6,
   "id": "686fe8bf-eeda-4c9a-b61b-aef41c771a2c",
   "metadata": {},
   "outputs": [],
   "source": [
    "input_data = [\n",
    "    [\n",
    "        # 0,\n",
    "        # 0,\n",
    "        # 0,\n",
    "        # 0,\n",
    "        # 0,\n",
    "        d['mean_temp'],\n",
    "        # 0,\n",
    "        d['acc_precip'],\n",
    "        # 0,\n",
    "        d['mean_wind_speed'],\n",
    "        0, # number of ship\n",
    "        # 0,\n",
    "        # 0,\n",
    "        # 0,\n",
    "        d['time'].weekday(),\n",
    "        d['time'].month,\n",
    "        d['time'].day,\n",
    "        d['time'].hour\n",
    "    ]\n",
    "    for d in t_data\n",
    "]"
   ]
  },
  {
   "cell_type": "code",
   "execution_count": 7,
   "id": "3756d9f4-4d0d-417a-86e2-e9236f4ec506",
   "metadata": {},
   "outputs": [
    {
     "data": {
      "text/plain": [
       "[[9.49, 0.0, 2.765, 0, 3, 6, 16, 2],\n",
       " [9.355, 0.0, 2.7725, 0, 3, 6, 16, 3],\n",
       " [9.5275, 0.0, 2.975, 0, 3, 6, 16, 4],\n",
       " [9.55, 0.0, 3.1325000000000003, 0, 3, 6, 16, 5],\n",
       " [10.4675, 0.0, 3.61, 0, 3, 6, 16, 6],\n",
       " [11.84, 0.0, 4.4425, 0, 3, 6, 16, 7],\n",
       " [13.445, 0.0, 4.97, 0, 3, 6, 16, 8],\n",
       " [14.9725, 0.0, 5.835, 0, 3, 6, 16, 9],\n",
       " [16.1725, 0.0, 6.3, 0, 3, 6, 16, 10],\n",
       " [17.3775, 0.0, 6.5125, 0, 3, 6, 16, 11]]"
      ]
     },
     "execution_count": 7,
     "metadata": {},
     "output_type": "execute_result"
    }
   ],
   "source": [
    "input_data[:10]"
   ]
  },
  {
   "cell_type": "code",
   "execution_count": 39,
   "id": "edd8f414-ca9f-4217-8ab4-2930283c7cbf",
   "metadata": {},
   "outputs": [
    {
     "data": {
      "text/plain": [
       "[datetime.datetime(2021, 6, 17, 10, 0, tzinfo=<DstTzInfo 'Europe/Copenhagen' CEST+2:00:00 DST>),\n",
       " datetime.datetime(2021, 6, 17, 11, 0, tzinfo=<DstTzInfo 'Europe/Copenhagen' CEST+2:00:00 DST>),\n",
       " datetime.datetime(2021, 6, 17, 12, 0, tzinfo=<DstTzInfo 'Europe/Copenhagen' CEST+2:00:00 DST>),\n",
       " datetime.datetime(2021, 6, 17, 13, 0, tzinfo=<DstTzInfo 'Europe/Copenhagen' CEST+2:00:00 DST>),\n",
       " datetime.datetime(2021, 6, 17, 14, 0, tzinfo=<DstTzInfo 'Europe/Copenhagen' CEST+2:00:00 DST>)]"
      ]
     },
     "execution_count": 39,
     "metadata": {},
     "output_type": "execute_result"
    }
   ],
   "source": [
    "with open('ship/schedule.json', \"r\") as f:\n",
    "    ship = [{'date': [int(d) for d in s[\"Date of arrival\"].split(\".\")], \"time\": [int(d) for d in s[\"Period of time\"].split(\"-\")]} for s in json.load(f)]\n",
    "\n",
    "ship2 = []\n",
    "for s in ship:\n",
    "    for t in range(s['time'][0], s['time'][1] + 1):\n",
    "        ship2.append({\n",
    "            **s,\n",
    "            'time': t\n",
    "        })\n",
    "\n",
    "ship3 = []\n",
    "for s in ship2:\n",
    "    date = s['date']\n",
    "    time = s['time']\n",
    "    ship3.append(datetime.datetime(date[2], date[1], date[0], time, tzinfo=pytz.timezone('utc')).astimezone(pytz.timezone('Europe/Copenhagen')))\n",
    "ship3[:5]"
   ]
  },
  {
   "cell_type": "code",
   "execution_count": 40,
   "id": "b27eb541-5f38-4b7b-9e9e-a617713d4d4b",
   "metadata": {},
   "outputs": [],
   "source": [
    "for i in input_data:\n",
    "    for s in ship3:\n",
    "        if i[5] == s.month and i[6] == s.day and i[7] == s.hour:\n",
    "            i[3] += 1"
   ]
  },
  {
   "cell_type": "code",
   "execution_count": 41,
   "id": "d62ee833-5d08-4fd0-b330-b8329fffeb42",
   "metadata": {
    "tags": []
   },
   "outputs": [],
   "source": [
    "import pickle\n",
    "import numpy as np"
   ]
  },
  {
   "cell_type": "code",
   "execution_count": 42,
   "id": "96097cae-3cf5-455e-9c21-b7c9f701f0dd",
   "metadata": {},
   "outputs": [],
   "source": [
    "with open(\"model.pickle\", \"rb\") as f:\n",
    "    model = pickle.load(f)"
   ]
  },
  {
   "cell_type": "code",
   "execution_count": 43,
   "id": "aae4f8bd-67f5-454d-9409-56c1880974cd",
   "metadata": {},
   "outputs": [
    {
     "data": {
      "text/plain": [
       "(169, 8)"
      ]
     },
     "execution_count": 43,
     "metadata": {},
     "output_type": "execute_result"
    }
   ],
   "source": [
    "np_input_data = np.array(input_data)\n",
    "np_input_data.shape"
   ]
  },
  {
   "cell_type": "code",
   "execution_count": 44,
   "id": "5c8a343e-82eb-4d37-af49-c40f568ec6b3",
   "metadata": {},
   "outputs": [],
   "source": [
    "pred = model.predict(np_input_data)"
   ]
  },
  {
   "cell_type": "code",
   "execution_count": 45,
   "id": "0dac804a-ce48-4de9-96c6-02350c18fd72",
   "metadata": {},
   "outputs": [],
   "source": [
    "category = [\n",
    "    \"good\",\n",
    "    \"fair\",\n",
    "    \"moderate\",\n",
    "    \"poor\",\n",
    "    \"very poor\",\n",
    "    \"extremely poor\",\n",
    "]"
   ]
  },
  {
   "cell_type": "code",
   "execution_count": 46,
   "id": "0e477b90-4572-4cd4-94dd-0a3f777d244b",
   "metadata": {},
   "outputs": [],
   "source": [
    "vis_data = [{\n",
    "    \"mean_temp\": x[0],\n",
    "    \"precip\": x[1],\n",
    "    \"mean_wind_speed\": x[2],\n",
    "    \"num_sthip\": x[3],\n",
    "    \"weekday\": x[4],\n",
    "    \"month\": x[5],\n",
    "    \"day\": x[6],\n",
    "    \"hour\": x[7],\n",
    "    \"air_quality\": category[y]\n",
    "} for x, y in zip(input_data, pred.tolist())]"
   ]
  },
  {
   "cell_type": "code",
   "execution_count": 47,
   "id": "151b11da-ed2a-4321-9e20-a541374dd286",
   "metadata": {},
   "outputs": [
    {
     "data": {
      "text/plain": [
       "[{'mean_temp': 9.49,\n",
       "  'precip': 0.0,\n",
       "  'mean_wind_speed': 2.765,\n",
       "  'num_sthip': 0,\n",
       "  'weekday': 3,\n",
       "  'month': 6,\n",
       "  'day': 16,\n",
       "  'hour': 2,\n",
       "  'air_quality': 'very poor'},\n",
       " {'mean_temp': 9.355,\n",
       "  'precip': 0.0,\n",
       "  'mean_wind_speed': 2.7725,\n",
       "  'num_sthip': 0,\n",
       "  'weekday': 3,\n",
       "  'month': 6,\n",
       "  'day': 16,\n",
       "  'hour': 3,\n",
       "  'air_quality': 'very poor'},\n",
       " {'mean_temp': 9.5275,\n",
       "  'precip': 0.0,\n",
       "  'mean_wind_speed': 2.975,\n",
       "  'num_sthip': 0,\n",
       "  'weekday': 3,\n",
       "  'month': 6,\n",
       "  'day': 16,\n",
       "  'hour': 4,\n",
       "  'air_quality': 'very poor'},\n",
       " {'mean_temp': 9.55,\n",
       "  'precip': 0.0,\n",
       "  'mean_wind_speed': 3.1325000000000003,\n",
       "  'num_sthip': 0,\n",
       "  'weekday': 3,\n",
       "  'month': 6,\n",
       "  'day': 16,\n",
       "  'hour': 5,\n",
       "  'air_quality': 'very poor'},\n",
       " {'mean_temp': 10.4675,\n",
       "  'precip': 0.0,\n",
       "  'mean_wind_speed': 3.61,\n",
       "  'num_sthip': 0,\n",
       "  'weekday': 3,\n",
       "  'month': 6,\n",
       "  'day': 16,\n",
       "  'hour': 6,\n",
       "  'air_quality': 'very poor'}]"
      ]
     },
     "execution_count": 47,
     "metadata": {},
     "output_type": "execute_result"
    }
   ],
   "source": [
    "vis_data[:5]"
   ]
  },
  {
   "cell_type": "code",
   "execution_count": 48,
   "id": "12e670ae-4bd3-4406-a846-260c9eb130dd",
   "metadata": {},
   "outputs": [],
   "source": [
    "import altair as alt"
   ]
  },
  {
   "cell_type": "code",
   "execution_count": 49,
   "id": "a3d88765-0ae9-4d95-b03d-2c4a699c1077",
   "metadata": {},
   "outputs": [
    {
     "data": {
      "text/html": [
       "\n",
       "<div id=\"altair-viz-948b97ed352b4f8d95063fb48dfaf3d3\"></div>\n",
       "<script type=\"text/javascript\">\n",
       "  var VEGA_DEBUG = (typeof VEGA_DEBUG == \"undefined\") ? {} : VEGA_DEBUG;\n",
       "  (function(spec, embedOpt){\n",
       "    let outputDiv = document.currentScript.previousElementSibling;\n",
       "    if (outputDiv.id !== \"altair-viz-948b97ed352b4f8d95063fb48dfaf3d3\") {\n",
       "      outputDiv = document.getElementById(\"altair-viz-948b97ed352b4f8d95063fb48dfaf3d3\");\n",
       "    }\n",
       "    const paths = {\n",
       "      \"vega\": \"https://cdn.jsdelivr.net/npm//vega@5?noext\",\n",
       "      \"vega-lib\": \"https://cdn.jsdelivr.net/npm//vega-lib?noext\",\n",
       "      \"vega-lite\": \"https://cdn.jsdelivr.net/npm//vega-lite@4.17.0?noext\",\n",
       "      \"vega-embed\": \"https://cdn.jsdelivr.net/npm//vega-embed@6?noext\",\n",
       "    };\n",
       "\n",
       "    function maybeLoadScript(lib, version) {\n",
       "      var key = `${lib.replace(\"-\", \"\")}_version`;\n",
       "      return (VEGA_DEBUG[key] == version) ?\n",
       "        Promise.resolve(paths[lib]) :\n",
       "        new Promise(function(resolve, reject) {\n",
       "          var s = document.createElement('script');\n",
       "          document.getElementsByTagName(\"head\")[0].appendChild(s);\n",
       "          s.async = true;\n",
       "          s.onload = () => {\n",
       "            VEGA_DEBUG[key] = version;\n",
       "            return resolve(paths[lib]);\n",
       "          };\n",
       "          s.onerror = () => reject(`Error loading script: ${paths[lib]}`);\n",
       "          s.src = paths[lib];\n",
       "        });\n",
       "    }\n",
       "\n",
       "    function showError(err) {\n",
       "      outputDiv.innerHTML = `<div class=\"error\" style=\"color:red;\">${err}</div>`;\n",
       "      throw err;\n",
       "    }\n",
       "\n",
       "    function displayChart(vegaEmbed) {\n",
       "      vegaEmbed(outputDiv, spec, embedOpt)\n",
       "        .catch(err => showError(`Javascript Error: ${err.message}<br>This usually means there's a typo in your chart specification. See the javascript console for the full traceback.`));\n",
       "    }\n",
       "\n",
       "    if(typeof define === \"function\" && define.amd) {\n",
       "      requirejs.config({paths});\n",
       "      require([\"vega-embed\"], displayChart, err => showError(`Error loading script: ${err.message}`));\n",
       "    } else {\n",
       "      maybeLoadScript(\"vega\", \"5\")\n",
       "        .then(() => maybeLoadScript(\"vega-lite\", \"4.17.0\"))\n",
       "        .then(() => maybeLoadScript(\"vega-embed\", \"6\"))\n",
       "        .catch(showError)\n",
       "        .then(() => displayChart(vegaEmbed));\n",
       "    }\n",
       "  })({\"config\": {\"view\": {\"continuousWidth\": 400, \"continuousHeight\": 300}}, \"data\": {\"name\": \"data-fd7cdef24380f0baf693d58391a05a3d\"}, \"mark\": \"rect\", \"encoding\": {\"color\": {\"field\": \"air_quality\", \"scale\": {\"domain\": [\"good\", \"fair\", \"poor\", \"very poor\", \"extremely poor\"], \"range\": [\"blue\", \"green\", \"yellow\", \"orange\", \"red\"]}, \"type\": \"ordinal\"}, \"x\": {\"axis\": {\"labelAngle\": 0}, \"field\": \"hour\", \"title\": \"Time of the day\", \"type\": \"ordinal\"}, \"y\": {\"field\": \"date\", \"title\": \"Date\", \"type\": \"ordinal\"}}, \"transform\": [{\"calculate\": \"datum.day + '/' + datum.month\", \"as\": \"date\"}], \"$schema\": \"https://vega.github.io/schema/vega-lite/v4.17.0.json\", \"datasets\": {\"data-fd7cdef24380f0baf693d58391a05a3d\": [{\"mean_temp\": 9.49, \"precip\": 0.0, \"mean_wind_speed\": 2.765, \"num_sthip\": 0, \"weekday\": 3, \"month\": 6, \"day\": 16, \"hour\": 2, \"air_quality\": \"very poor\"}, {\"mean_temp\": 9.355, \"precip\": 0.0, \"mean_wind_speed\": 2.7725, \"num_sthip\": 0, \"weekday\": 3, \"month\": 6, \"day\": 16, \"hour\": 3, \"air_quality\": \"very poor\"}, {\"mean_temp\": 9.5275, \"precip\": 0.0, \"mean_wind_speed\": 2.975, \"num_sthip\": 0, \"weekday\": 3, \"month\": 6, \"day\": 16, \"hour\": 4, \"air_quality\": \"very poor\"}, {\"mean_temp\": 9.55, \"precip\": 0.0, \"mean_wind_speed\": 3.1325000000000003, \"num_sthip\": 0, \"weekday\": 3, \"month\": 6, \"day\": 16, \"hour\": 5, \"air_quality\": \"very poor\"}, {\"mean_temp\": 10.4675, \"precip\": 0.0, \"mean_wind_speed\": 3.61, \"num_sthip\": 0, \"weekday\": 3, \"month\": 6, \"day\": 16, \"hour\": 6, \"air_quality\": \"very poor\"}, {\"mean_temp\": 11.84, \"precip\": 0.0, \"mean_wind_speed\": 4.4425, \"num_sthip\": 0, \"weekday\": 3, \"month\": 6, \"day\": 16, \"hour\": 7, \"air_quality\": \"extremely poor\"}, {\"mean_temp\": 13.445, \"precip\": 0.0, \"mean_wind_speed\": 4.97, \"num_sthip\": 0, \"weekday\": 3, \"month\": 6, \"day\": 16, \"hour\": 8, \"air_quality\": \"poor\"}, {\"mean_temp\": 14.9725, \"precip\": 0.0, \"mean_wind_speed\": 5.835, \"num_sthip\": 1, \"weekday\": 3, \"month\": 6, \"day\": 16, \"hour\": 9, \"air_quality\": \"poor\"}, {\"mean_temp\": 16.1725, \"precip\": 0.0, \"mean_wind_speed\": 6.3, \"num_sthip\": 1, \"weekday\": 3, \"month\": 6, \"day\": 16, \"hour\": 10, \"air_quality\": \"poor\"}, {\"mean_temp\": 17.3775, \"precip\": 0.0, \"mean_wind_speed\": 6.5125, \"num_sthip\": 2, \"weekday\": 3, \"month\": 6, \"day\": 16, \"hour\": 11, \"air_quality\": \"poor\"}, {\"mean_temp\": 18.52, \"precip\": 0.0, \"mean_wind_speed\": 6.715, \"num_sthip\": 2, \"weekday\": 3, \"month\": 6, \"day\": 16, \"hour\": 12, \"air_quality\": \"poor\"}, {\"mean_temp\": 19.26, \"precip\": 0.0, \"mean_wind_speed\": 6.9625, \"num_sthip\": 2, \"weekday\": 3, \"month\": 6, \"day\": 16, \"hour\": 13, \"air_quality\": \"poor\"}, {\"mean_temp\": 19.740000000000002, \"precip\": 0.0, \"mean_wind_speed\": 7.2125, \"num_sthip\": 2, \"weekday\": 3, \"month\": 6, \"day\": 16, \"hour\": 14, \"air_quality\": \"poor\"}, {\"mean_temp\": 19.9275, \"precip\": 0.0, \"mean_wind_speed\": 7.140000000000001, \"num_sthip\": 2, \"weekday\": 3, \"month\": 6, \"day\": 16, \"hour\": 15, \"air_quality\": \"poor\"}, {\"mean_temp\": 19.855, \"precip\": 0.0, \"mean_wind_speed\": 7.1175, \"num_sthip\": 2, \"weekday\": 3, \"month\": 6, \"day\": 16, \"hour\": 16, \"air_quality\": \"very poor\"}, {\"mean_temp\": 19.6675, \"precip\": 0.0, \"mean_wind_speed\": 7.145, \"num_sthip\": 2, \"weekday\": 3, \"month\": 6, \"day\": 16, \"hour\": 17, \"air_quality\": \"very poor\"}, {\"mean_temp\": 19.025, \"precip\": 0.0, \"mean_wind_speed\": 6.800000000000001, \"num_sthip\": 2, \"weekday\": 3, \"month\": 6, \"day\": 16, \"hour\": 18, \"air_quality\": \"very poor\"}, {\"mean_temp\": 18.4375, \"precip\": 0.0, \"mean_wind_speed\": 6.2525, \"num_sthip\": 1, \"weekday\": 3, \"month\": 6, \"day\": 16, \"hour\": 19, \"air_quality\": \"very poor\"}, {\"mean_temp\": 17.564999999999998, \"precip\": 0.0, \"mean_wind_speed\": 5.557499999999999, \"num_sthip\": 1, \"weekday\": 3, \"month\": 6, \"day\": 16, \"hour\": 20, \"air_quality\": \"very poor\"}, {\"mean_temp\": 16.265, \"precip\": 0.0, \"mean_wind_speed\": 4.3175, \"num_sthip\": 0, \"weekday\": 3, \"month\": 6, \"day\": 16, \"hour\": 21, \"air_quality\": \"very poor\"}, {\"mean_temp\": 14.580000000000002, \"precip\": 0.0, \"mean_wind_speed\": 3.6800000000000006, \"num_sthip\": 0, \"weekday\": 3, \"month\": 6, \"day\": 16, \"hour\": 22, \"air_quality\": \"very poor\"}, {\"mean_temp\": 13.1875, \"precip\": 0.0, \"mean_wind_speed\": 3.54, \"num_sthip\": 0, \"weekday\": 3, \"month\": 6, \"day\": 16, \"hour\": 23, \"air_quality\": \"very poor\"}, {\"mean_temp\": 12.555, \"precip\": 0.0, \"mean_wind_speed\": 3.6400000000000006, \"num_sthip\": 0, \"weekday\": 4, \"month\": 6, \"day\": 17, \"hour\": 0, \"air_quality\": \"poor\"}, {\"mean_temp\": 12.059999999999999, \"precip\": 0.0, \"mean_wind_speed\": 3.3875, \"num_sthip\": 0, \"weekday\": 4, \"month\": 6, \"day\": 17, \"hour\": 1, \"air_quality\": \"very poor\"}, {\"mean_temp\": 11.49, \"precip\": 0.0, \"mean_wind_speed\": 3.4875, \"num_sthip\": 0, \"weekday\": 4, \"month\": 6, \"day\": 17, \"hour\": 2, \"air_quality\": \"very poor\"}, {\"mean_temp\": 11.0, \"precip\": 0.0, \"mean_wind_speed\": 3.74, \"num_sthip\": 0, \"weekday\": 4, \"month\": 6, \"day\": 17, \"hour\": 3, \"air_quality\": \"very poor\"}, {\"mean_temp\": 10.645, \"precip\": 0.0, \"mean_wind_speed\": 3.9425, \"num_sthip\": 0, \"weekday\": 4, \"month\": 6, \"day\": 17, \"hour\": 4, \"air_quality\": \"extremely poor\"}, {\"mean_temp\": 10.602500000000001, \"precip\": 0.0, \"mean_wind_speed\": 4.095, \"num_sthip\": 0, \"weekday\": 4, \"month\": 6, \"day\": 17, \"hour\": 5, \"air_quality\": \"extremely poor\"}, {\"mean_temp\": 11.56, \"precip\": 0.0, \"mean_wind_speed\": 4.3625, \"num_sthip\": 0, \"weekday\": 4, \"month\": 6, \"day\": 17, \"hour\": 6, \"air_quality\": \"extremely poor\"}, {\"mean_temp\": 13.2275, \"precip\": 0.0, \"mean_wind_speed\": 4.432499999999999, \"num_sthip\": 0, \"weekday\": 4, \"month\": 6, \"day\": 17, \"hour\": 7, \"air_quality\": \"very poor\"}, {\"mean_temp\": 14.965, \"precip\": 0.0, \"mean_wind_speed\": 4.3, \"num_sthip\": 1, \"weekday\": 4, \"month\": 6, \"day\": 17, \"hour\": 8, \"air_quality\": \"poor\"}, {\"mean_temp\": 16.47, \"precip\": 0.0, \"mean_wind_speed\": 4.24, \"num_sthip\": 1, \"weekday\": 4, \"month\": 6, \"day\": 17, \"hour\": 9, \"air_quality\": \"poor\"}, {\"mean_temp\": 17.990000000000002, \"precip\": 0.0, \"mean_wind_speed\": 3.9325, \"num_sthip\": 2, \"weekday\": 4, \"month\": 6, \"day\": 17, \"hour\": 10, \"air_quality\": \"poor\"}, {\"mean_temp\": 19.2575, \"precip\": 0.0, \"mean_wind_speed\": 3.6224999999999996, \"num_sthip\": 2, \"weekday\": 4, \"month\": 6, \"day\": 17, \"hour\": 11, \"air_quality\": \"poor\"}, {\"mean_temp\": 19.855, \"precip\": 0.0, \"mean_wind_speed\": 4.297499999999999, \"num_sthip\": 2, \"weekday\": 4, \"month\": 6, \"day\": 17, \"hour\": 12, \"air_quality\": \"poor\"}, {\"mean_temp\": 20.045, \"precip\": 0.0025, \"mean_wind_speed\": 4.82, \"num_sthip\": 2, \"weekday\": 4, \"month\": 6, \"day\": 17, \"hour\": 13, \"air_quality\": \"poor\"}, {\"mean_temp\": 20.2625, \"precip\": 0.015000000000000001, \"mean_wind_speed\": 5.345, \"num_sthip\": 2, \"weekday\": 4, \"month\": 6, \"day\": 17, \"hour\": 14, \"air_quality\": \"poor\"}, {\"mean_temp\": 18.9925, \"precip\": 0.13999999999999999, \"mean_wind_speed\": 5.8725000000000005, \"num_sthip\": 2, \"weekday\": 4, \"month\": 6, \"day\": 17, \"hour\": 15, \"air_quality\": \"very poor\"}, {\"mean_temp\": 16.8725, \"precip\": 0.2975, \"mean_wind_speed\": 4.995, \"num_sthip\": 2, \"weekday\": 4, \"month\": 6, \"day\": 17, \"hour\": 16, \"air_quality\": \"very poor\"}, {\"mean_temp\": 15.555, \"precip\": 0.4525, \"mean_wind_speed\": 4.8725, \"num_sthip\": 2, \"weekday\": 4, \"month\": 6, \"day\": 17, \"hour\": 17, \"air_quality\": \"very poor\"}, {\"mean_temp\": 15.025, \"precip\": 0.5325, \"mean_wind_speed\": 5.17, \"num_sthip\": 2, \"weekday\": 4, \"month\": 6, \"day\": 17, \"hour\": 18, \"air_quality\": \"very poor\"}, {\"mean_temp\": 14.745000000000001, \"precip\": 0.38, \"mean_wind_speed\": 5.265000000000001, \"num_sthip\": 1, \"weekday\": 4, \"month\": 6, \"day\": 17, \"hour\": 19, \"air_quality\": \"very poor\"}, {\"mean_temp\": 14.4175, \"precip\": 0.2025, \"mean_wind_speed\": 5.2125, \"num_sthip\": 1, \"weekday\": 4, \"month\": 6, \"day\": 17, \"hour\": 20, \"air_quality\": \"very poor\"}, {\"mean_temp\": 14.4875, \"precip\": 0.0675, \"mean_wind_speed\": 5.13, \"num_sthip\": 0, \"weekday\": 4, \"month\": 6, \"day\": 17, \"hour\": 21, \"air_quality\": \"very poor\"}, {\"mean_temp\": 14.6775, \"precip\": 0.017499999999999998, \"mean_wind_speed\": 5.8975, \"num_sthip\": 0, \"weekday\": 4, \"month\": 6, \"day\": 17, \"hour\": 22, \"air_quality\": \"very poor\"}, {\"mean_temp\": 14.795, \"precip\": 0.02, \"mean_wind_speed\": 6.414999999999999, \"num_sthip\": 0, \"weekday\": 4, \"month\": 6, \"day\": 17, \"hour\": 23, \"air_quality\": \"very poor\"}, {\"mean_temp\": 14.9175, \"precip\": 0.015, \"mean_wind_speed\": 6.295, \"num_sthip\": 0, \"weekday\": 5, \"month\": 6, \"day\": 18, \"hour\": 0, \"air_quality\": \"very poor\"}, {\"mean_temp\": 14.9375, \"precip\": 0.0, \"mean_wind_speed\": 6.0725, \"num_sthip\": 0, \"weekday\": 5, \"month\": 6, \"day\": 18, \"hour\": 1, \"air_quality\": \"very poor\"}, {\"mean_temp\": 14.9225, \"precip\": 0.0, \"mean_wind_speed\": 6.205, \"num_sthip\": 0, \"weekday\": 5, \"month\": 6, \"day\": 18, \"hour\": 2, \"air_quality\": \"very poor\"}, {\"mean_temp\": 14.8525, \"precip\": 0.0, \"mean_wind_speed\": 6.145, \"num_sthip\": 0, \"weekday\": 5, \"month\": 6, \"day\": 18, \"hour\": 3, \"air_quality\": \"very poor\"}, {\"mean_temp\": 14.655000000000001, \"precip\": 0.0, \"mean_wind_speed\": 6.0875, \"num_sthip\": 0, \"weekday\": 5, \"month\": 6, \"day\": 18, \"hour\": 4, \"air_quality\": \"very poor\"}, {\"mean_temp\": 14.4875, \"precip\": 0.0, \"mean_wind_speed\": 6.0275, \"num_sthip\": 0, \"weekday\": 5, \"month\": 6, \"day\": 18, \"hour\": 5, \"air_quality\": \"very poor\"}, {\"mean_temp\": 15.2575, \"precip\": 0.1, \"mean_wind_speed\": 5.4375, \"num_sthip\": 0, \"weekday\": 5, \"month\": 6, \"day\": 18, \"hour\": 6, \"air_quality\": \"poor\"}, {\"mean_temp\": 15.4525, \"precip\": 0.1, \"mean_wind_speed\": 5.65, \"num_sthip\": 0, \"weekday\": 5, \"month\": 6, \"day\": 18, \"hour\": 7, \"air_quality\": \"poor\"}, {\"mean_temp\": 15.692499999999999, \"precip\": 0.1, \"mean_wind_speed\": 5.86, \"num_sthip\": 0, \"weekday\": 5, \"month\": 6, \"day\": 18, \"hour\": 8, \"air_quality\": \"poor\"}, {\"mean_temp\": 16.305, \"precip\": 0.1, \"mean_wind_speed\": 5.907500000000001, \"num_sthip\": 0, \"weekday\": 5, \"month\": 6, \"day\": 18, \"hour\": 9, \"air_quality\": \"poor\"}, {\"mean_temp\": 16.85, \"precip\": 0.1, \"mean_wind_speed\": 5.955, \"num_sthip\": 0, \"weekday\": 5, \"month\": 6, \"day\": 18, \"hour\": 10, \"air_quality\": \"very poor\"}, {\"mean_temp\": 17.4125, \"precip\": 0.1, \"mean_wind_speed\": 6.0025, \"num_sthip\": 0, \"weekday\": 5, \"month\": 6, \"day\": 18, \"hour\": 11, \"air_quality\": \"very poor\"}, {\"mean_temp\": 19.03, \"precip\": 0.0, \"mean_wind_speed\": 6.37, \"num_sthip\": 0, \"weekday\": 5, \"month\": 6, \"day\": 18, \"hour\": 12, \"air_quality\": \"very poor\"}, {\"mean_temp\": 19.23, \"precip\": 0.0, \"mean_wind_speed\": 6.485, \"num_sthip\": 0, \"weekday\": 5, \"month\": 6, \"day\": 18, \"hour\": 13, \"air_quality\": \"very poor\"}, {\"mean_temp\": 19.345000000000002, \"precip\": 0.0, \"mean_wind_speed\": 6.6025, \"num_sthip\": 0, \"weekday\": 5, \"month\": 6, \"day\": 18, \"hour\": 14, \"air_quality\": \"very poor\"}, {\"mean_temp\": 19.1475, \"precip\": 0.0, \"mean_wind_speed\": 6.4425, \"num_sthip\": 0, \"weekday\": 5, \"month\": 6, \"day\": 18, \"hour\": 15, \"air_quality\": \"very poor\"}, {\"mean_temp\": 18.855, \"precip\": 0.0, \"mean_wind_speed\": 6.2825, \"num_sthip\": 0, \"weekday\": 5, \"month\": 6, \"day\": 18, \"hour\": 16, \"air_quality\": \"very poor\"}, {\"mean_temp\": 18.595, \"precip\": 0.0, \"mean_wind_speed\": 6.1225000000000005, \"num_sthip\": 0, \"weekday\": 5, \"month\": 6, \"day\": 18, \"hour\": 17, \"air_quality\": \"very poor\"}, {\"mean_temp\": 16.9225, \"precip\": 0.0, \"mean_wind_speed\": 5.145, \"num_sthip\": 0, \"weekday\": 5, \"month\": 6, \"day\": 18, \"hour\": 18, \"air_quality\": \"very poor\"}, {\"mean_temp\": 16.41, \"precip\": 0.0, \"mean_wind_speed\": 4.967499999999999, \"num_sthip\": 0, \"weekday\": 5, \"month\": 6, \"day\": 18, \"hour\": 19, \"air_quality\": \"very poor\"}, {\"mean_temp\": 15.8875, \"precip\": 0.0, \"mean_wind_speed\": 4.79, \"num_sthip\": 0, \"weekday\": 5, \"month\": 6, \"day\": 18, \"hour\": 20, \"air_quality\": \"very poor\"}, {\"mean_temp\": 15.4025, \"precip\": 0.0, \"mean_wind_speed\": 4.4425, \"num_sthip\": 0, \"weekday\": 5, \"month\": 6, \"day\": 18, \"hour\": 21, \"air_quality\": \"very poor\"}, {\"mean_temp\": 14.915, \"precip\": 0.0, \"mean_wind_speed\": 4.1, \"num_sthip\": 0, \"weekday\": 5, \"month\": 6, \"day\": 18, \"hour\": 22, \"air_quality\": \"very poor\"}, {\"mean_temp\": 14.43, \"precip\": 0.0, \"mean_wind_speed\": 3.7525000000000004, \"num_sthip\": 0, \"weekday\": 5, \"month\": 6, \"day\": 18, \"hour\": 23, \"air_quality\": \"poor\"}, {\"mean_temp\": 12.202499999999999, \"precip\": 0.0, \"mean_wind_speed\": 3.4425, \"num_sthip\": 0, \"weekday\": 6, \"month\": 6, \"day\": 19, \"hour\": 0, \"air_quality\": \"very poor\"}, {\"mean_temp\": 12.03, \"precip\": 0.0, \"mean_wind_speed\": 3.435, \"num_sthip\": 0, \"weekday\": 6, \"month\": 6, \"day\": 19, \"hour\": 1, \"air_quality\": \"very poor\"}, {\"mean_temp\": 11.8525, \"precip\": 0.0, \"mean_wind_speed\": 3.425, \"num_sthip\": 0, \"weekday\": 6, \"month\": 6, \"day\": 19, \"hour\": 2, \"air_quality\": \"very poor\"}, {\"mean_temp\": 11.625, \"precip\": 0.0075, \"mean_wind_speed\": 3.355, \"num_sthip\": 0, \"weekday\": 6, \"month\": 6, \"day\": 19, \"hour\": 3, \"air_quality\": \"very poor\"}, {\"mean_temp\": 11.397499999999999, \"precip\": 0.0175, \"mean_wind_speed\": 3.2849999999999997, \"num_sthip\": 0, \"weekday\": 6, \"month\": 6, \"day\": 19, \"hour\": 4, \"air_quality\": \"very poor\"}, {\"mean_temp\": 11.1675, \"precip\": 0.025, \"mean_wind_speed\": 3.215, \"num_sthip\": 0, \"weekday\": 6, \"month\": 6, \"day\": 19, \"hour\": 5, \"air_quality\": \"very poor\"}, {\"mean_temp\": 10.9, \"precip\": 0.11750000000000001, \"mean_wind_speed\": 2.405, \"num_sthip\": 0, \"weekday\": 6, \"month\": 6, \"day\": 19, \"hour\": 6, \"air_quality\": \"moderate\"}, {\"mean_temp\": 11.18, \"precip\": 0.11000000000000001, \"mean_wind_speed\": 2.5474999999999994, \"num_sthip\": 0, \"weekday\": 6, \"month\": 6, \"day\": 19, \"hour\": 7, \"air_quality\": \"moderate\"}, {\"mean_temp\": 11.46, \"precip\": 0.10250000000000001, \"mean_wind_speed\": 2.6875, \"num_sthip\": 1, \"weekday\": 6, \"month\": 6, \"day\": 19, \"hour\": 8, \"air_quality\": \"very poor\"}, {\"mean_temp\": 12.052499999999998, \"precip\": 0.11000000000000001, \"mean_wind_speed\": 2.8774999999999995, \"num_sthip\": 1, \"weekday\": 6, \"month\": 6, \"day\": 19, \"hour\": 9, \"air_quality\": \"very poor\"}, {\"mean_temp\": 12.642499999999998, \"precip\": 0.11750000000000001, \"mean_wind_speed\": 3.0649999999999995, \"num_sthip\": 2, \"weekday\": 6, \"month\": 6, \"day\": 19, \"hour\": 10, \"air_quality\": \"poor\"}, {\"mean_temp\": 13.235, \"precip\": 0.125, \"mean_wind_speed\": 3.255, \"num_sthip\": 2, \"weekday\": 6, \"month\": 6, \"day\": 19, \"hour\": 11, \"air_quality\": \"poor\"}, {\"mean_temp\": 14.1775, \"precip\": 0.07, \"mean_wind_speed\": 3.1725000000000003, \"num_sthip\": 2, \"weekday\": 6, \"month\": 6, \"day\": 19, \"hour\": 12, \"air_quality\": \"poor\"}, {\"mean_temp\": 14.5175, \"precip\": 0.0625, \"mean_wind_speed\": 3.2375000000000003, \"num_sthip\": 2, \"weekday\": 6, \"month\": 6, \"day\": 19, \"hour\": 13, \"air_quality\": \"poor\"}, {\"mean_temp\": 14.86, \"precip\": 0.0575, \"mean_wind_speed\": 3.305, \"num_sthip\": 2, \"weekday\": 6, \"month\": 6, \"day\": 19, \"hour\": 14, \"air_quality\": \"very poor\"}, {\"mean_temp\": 14.71, \"precip\": 0.0625, \"mean_wind_speed\": 3.4175000000000004, \"num_sthip\": 2, \"weekday\": 6, \"month\": 6, \"day\": 19, \"hour\": 15, \"air_quality\": \"very poor\"}, {\"mean_temp\": 14.56, \"precip\": 0.065, \"mean_wind_speed\": 3.5300000000000002, \"num_sthip\": 2, \"weekday\": 6, \"month\": 6, \"day\": 19, \"hour\": 16, \"air_quality\": \"very poor\"}, {\"mean_temp\": 14.415, \"precip\": 0.0675, \"mean_wind_speed\": 3.6425, \"num_sthip\": 2, \"weekday\": 6, \"month\": 6, \"day\": 19, \"hour\": 17, \"air_quality\": \"very poor\"}, {\"mean_temp\": 15.1775, \"precip\": 0.0125, \"mean_wind_speed\": 4.37, \"num_sthip\": 2, \"weekday\": 6, \"month\": 6, \"day\": 19, \"hour\": 18, \"air_quality\": \"very poor\"}, {\"mean_temp\": 14.94, \"precip\": 0.0075, \"mean_wind_speed\": 4.25, \"num_sthip\": 1, \"weekday\": 6, \"month\": 6, \"day\": 19, \"hour\": 19, \"air_quality\": \"very poor\"}, {\"mean_temp\": 14.7025, \"precip\": 0.0, \"mean_wind_speed\": 4.1274999999999995, \"num_sthip\": 1, \"weekday\": 6, \"month\": 6, \"day\": 19, \"hour\": 20, \"air_quality\": \"very poor\"}, {\"mean_temp\": 13.9975, \"precip\": 0.0, \"mean_wind_speed\": 3.8825, \"num_sthip\": 0, \"weekday\": 6, \"month\": 6, \"day\": 19, \"hour\": 21, \"air_quality\": \"poor\"}, {\"mean_temp\": 13.2875, \"precip\": 0.0, \"mean_wind_speed\": 3.6425, \"num_sthip\": 0, \"weekday\": 6, \"month\": 6, \"day\": 19, \"hour\": 22, \"air_quality\": \"moderate\"}, {\"mean_temp\": 12.58, \"precip\": 0.0, \"mean_wind_speed\": 3.3975, \"num_sthip\": 0, \"weekday\": 6, \"month\": 6, \"day\": 19, \"hour\": 23, \"air_quality\": \"poor\"}, {\"mean_temp\": 10.8825, \"precip\": 0.0075, \"mean_wind_speed\": 3.92, \"num_sthip\": 0, \"weekday\": 0, \"month\": 6, \"day\": 20, \"hour\": 0, \"air_quality\": \"poor\"}, {\"mean_temp\": 10.685, \"precip\": 0.015, \"mean_wind_speed\": 3.8425000000000002, \"num_sthip\": 0, \"weekday\": 0, \"month\": 6, \"day\": 20, \"hour\": 1, \"air_quality\": \"poor\"}, {\"mean_temp\": 10.4875, \"precip\": 0.02, \"mean_wind_speed\": 3.7649999999999997, \"num_sthip\": 0, \"weekday\": 0, \"month\": 6, \"day\": 20, \"hour\": 2, \"air_quality\": \"poor\"}, {\"mean_temp\": 10.3975, \"precip\": 0.0175, \"mean_wind_speed\": 3.6475, \"num_sthip\": 0, \"weekday\": 0, \"month\": 6, \"day\": 20, \"hour\": 3, \"air_quality\": \"extremely poor\"}, {\"mean_temp\": 10.305, \"precip\": 0.015000000000000001, \"mean_wind_speed\": 3.5324999999999998, \"num_sthip\": 0, \"weekday\": 0, \"month\": 6, \"day\": 20, \"hour\": 4, \"air_quality\": \"poor\"}, {\"mean_temp\": 10.2125, \"precip\": 0.0125, \"mean_wind_speed\": 3.415, \"num_sthip\": 0, \"weekday\": 0, \"month\": 6, \"day\": 20, \"hour\": 5, \"air_quality\": \"extremely poor\"}, {\"mean_temp\": 10.975, \"precip\": 0.01, \"mean_wind_speed\": 3.9250000000000003, \"num_sthip\": 0, \"weekday\": 0, \"month\": 6, \"day\": 20, \"hour\": 6, \"air_quality\": \"poor\"}, {\"mean_temp\": 11.532499999999999, \"precip\": 0.01, \"mean_wind_speed\": 4.135, \"num_sthip\": 0, \"weekday\": 0, \"month\": 6, \"day\": 20, \"hour\": 7, \"air_quality\": \"very poor\"}, {\"mean_temp\": 12.094999999999999, \"precip\": 0.01, \"mean_wind_speed\": 4.345000000000001, \"num_sthip\": 0, \"weekday\": 0, \"month\": 6, \"day\": 20, \"hour\": 8, \"air_quality\": \"very poor\"}, {\"mean_temp\": 12.6875, \"precip\": 0.0075, \"mean_wind_speed\": 4.265000000000001, \"num_sthip\": 0, \"weekday\": 0, \"month\": 6, \"day\": 20, \"hour\": 9, \"air_quality\": \"very poor\"}, {\"mean_temp\": 13.2775, \"precip\": 0.005, \"mean_wind_speed\": 4.18, \"num_sthip\": 0, \"weekday\": 0, \"month\": 6, \"day\": 20, \"hour\": 10, \"air_quality\": \"very poor\"}, {\"mean_temp\": 13.8675, \"precip\": 0.0025, \"mean_wind_speed\": 4.1, \"num_sthip\": 0, \"weekday\": 0, \"month\": 6, \"day\": 20, \"hour\": 11, \"air_quality\": \"very poor\"}, {\"mean_temp\": 15.7925, \"precip\": 0.0225, \"mean_wind_speed\": 5.52, \"num_sthip\": 0, \"weekday\": 0, \"month\": 6, \"day\": 20, \"hour\": 12, \"air_quality\": \"very poor\"}, {\"mean_temp\": 16.0625, \"precip\": 0.045, \"mean_wind_speed\": 5.442500000000001, \"num_sthip\": 0, \"weekday\": 0, \"month\": 6, \"day\": 20, \"hour\": 13, \"air_quality\": \"very poor\"}, {\"mean_temp\": 16.335, \"precip\": 0.065, \"mean_wind_speed\": 5.362500000000001, \"num_sthip\": 0, \"weekday\": 0, \"month\": 6, \"day\": 20, \"hour\": 14, \"air_quality\": \"very poor\"}, {\"mean_temp\": 16.0, \"precip\": 0.06, \"mean_wind_speed\": 5.6675, \"num_sthip\": 0, \"weekday\": 0, \"month\": 6, \"day\": 20, \"hour\": 15, \"air_quality\": \"very poor\"}, {\"mean_temp\": 16.133333333333336, \"precip\": 0.03333333333333333, \"mean_wind_speed\": 5.975, \"num_sthip\": 0, \"weekday\": 0, \"month\": 6, \"day\": 20, \"hour\": 16, \"air_quality\": \"very poor\"}, {\"mean_temp\": 16.266666666666666, \"precip\": 0.006666666666666667, \"mean_wind_speed\": 6.279999999999999, \"num_sthip\": 0, \"weekday\": 0, \"month\": 6, \"day\": 20, \"hour\": 17, \"air_quality\": \"poor\"}, {\"mean_temp\": 15.023333333333333, \"precip\": 0.0033333333333333335, \"mean_wind_speed\": 6.8, \"num_sthip\": 0, \"weekday\": 0, \"month\": 6, \"day\": 20, \"hour\": 18, \"air_quality\": \"poor\"}, {\"mean_temp\": 14.776666666666666, \"precip\": 0.0033333333333333335, \"mean_wind_speed\": 6.6674999999999995, \"num_sthip\": 0, \"weekday\": 0, \"month\": 6, \"day\": 20, \"hour\": 19, \"air_quality\": \"poor\"}, {\"mean_temp\": 14.533333333333331, \"precip\": 0.0, \"mean_wind_speed\": 6.5375, \"num_sthip\": 0, \"weekday\": 0, \"month\": 6, \"day\": 20, \"hour\": 20, \"air_quality\": \"poor\"}, {\"mean_temp\": 13.916666666666666, \"precip\": 0.0, \"mean_wind_speed\": 6.4475, \"num_sthip\": 0, \"weekday\": 0, \"month\": 6, \"day\": 20, \"hour\": 21, \"air_quality\": \"poor\"}, {\"mean_temp\": 13.303333333333333, \"precip\": 0.0, \"mean_wind_speed\": 6.3549999999999995, \"num_sthip\": 0, \"weekday\": 0, \"month\": 6, \"day\": 20, \"hour\": 22, \"air_quality\": \"very poor\"}, {\"mean_temp\": 12.686666666666667, \"precip\": 0.0, \"mean_wind_speed\": 6.265, \"num_sthip\": 0, \"weekday\": 0, \"month\": 6, \"day\": 20, \"hour\": 23, \"air_quality\": \"very poor\"}, {\"mean_temp\": 10.783333333333333, \"precip\": 0.0, \"mean_wind_speed\": 5.5525, \"num_sthip\": 0, \"weekday\": 1, \"month\": 6, \"day\": 21, \"hour\": 0, \"air_quality\": \"very poor\"}, {\"mean_temp\": 10.613333333333335, \"precip\": 0.0, \"mean_wind_speed\": 5.4925, \"num_sthip\": 0, \"weekday\": 1, \"month\": 6, \"day\": 21, \"hour\": 1, \"air_quality\": \"poor\"}, {\"mean_temp\": 10.44, \"precip\": 0.0, \"mean_wind_speed\": 5.43, \"num_sthip\": 0, \"weekday\": 1, \"month\": 6, \"day\": 21, \"hour\": 2, \"air_quality\": \"extremely poor\"}, {\"mean_temp\": 10.746666666666668, \"precip\": 0.0, \"mean_wind_speed\": 5.4975000000000005, \"num_sthip\": 0, \"weekday\": 1, \"month\": 6, \"day\": 21, \"hour\": 3, \"air_quality\": \"extremely poor\"}, {\"mean_temp\": 11.049999999999999, \"precip\": 0.0, \"mean_wind_speed\": 5.5649999999999995, \"num_sthip\": 0, \"weekday\": 1, \"month\": 6, \"day\": 21, \"hour\": 4, \"air_quality\": \"extremely poor\"}, {\"mean_temp\": 11.353333333333333, \"precip\": 0.0, \"mean_wind_speed\": 5.6325, \"num_sthip\": 0, \"weekday\": 1, \"month\": 6, \"day\": 21, \"hour\": 5, \"air_quality\": \"extremely poor\"}, {\"mean_temp\": 12.413333333333334, \"precip\": 0.02, \"mean_wind_speed\": 5.29, \"num_sthip\": 0, \"weekday\": 1, \"month\": 6, \"day\": 21, \"hour\": 6, \"air_quality\": \"poor\"}, {\"mean_temp\": 12.536666666666667, \"precip\": 0.03666666666666667, \"mean_wind_speed\": 5.4, \"num_sthip\": 0, \"weekday\": 1, \"month\": 6, \"day\": 21, \"hour\": 7, \"air_quality\": \"poor\"}, {\"mean_temp\": 12.663333333333334, \"precip\": 0.05666666666666667, \"mean_wind_speed\": 5.5075, \"num_sthip\": 0, \"weekday\": 1, \"month\": 6, \"day\": 21, \"hour\": 8, \"air_quality\": \"poor\"}, {\"mean_temp\": 12.706666666666665, \"precip\": 0.05666666666666667, \"mean_wind_speed\": 5.55, \"num_sthip\": 0, \"weekday\": 1, \"month\": 6, \"day\": 21, \"hour\": 9, \"air_quality\": \"extremely poor\"}, {\"mean_temp\": 12.75, \"precip\": 0.05333333333333334, \"mean_wind_speed\": 5.5975, \"num_sthip\": 0, \"weekday\": 1, \"month\": 6, \"day\": 21, \"hour\": 10, \"air_quality\": \"very poor\"}, {\"mean_temp\": 12.793333333333335, \"precip\": 0.049999999999999996, \"mean_wind_speed\": 5.640000000000001, \"num_sthip\": 0, \"weekday\": 1, \"month\": 6, \"day\": 21, \"hour\": 11, \"air_quality\": \"very poor\"}, {\"mean_temp\": 16.400000000000002, \"precip\": 0.03666666666666667, \"mean_wind_speed\": 4.735, \"num_sthip\": 0, \"weekday\": 1, \"month\": 6, \"day\": 21, \"hour\": 12, \"air_quality\": \"very poor\"}, {\"mean_temp\": 16.673333333333332, \"precip\": 0.023333333333333334, \"mean_wind_speed\": 4.8775, \"num_sthip\": 0, \"weekday\": 1, \"month\": 6, \"day\": 21, \"hour\": 13, \"air_quality\": \"very poor\"}, {\"mean_temp\": 16.94666666666667, \"precip\": 0.01, \"mean_wind_speed\": 5.0225, \"num_sthip\": 0, \"weekday\": 1, \"month\": 6, \"day\": 21, \"hour\": 14, \"air_quality\": \"very poor\"}, {\"mean_temp\": 17.143333333333334, \"precip\": 0.01, \"mean_wind_speed\": 4.985, \"num_sthip\": 0, \"weekday\": 1, \"month\": 6, \"day\": 21, \"hour\": 15, \"air_quality\": \"very poor\"}, {\"mean_temp\": 17.343333333333334, \"precip\": 0.01, \"mean_wind_speed\": 4.95, \"num_sthip\": 0, \"weekday\": 1, \"month\": 6, \"day\": 21, \"hour\": 16, \"air_quality\": \"poor\"}, {\"mean_temp\": 17.540000000000003, \"precip\": 0.013333333333333334, \"mean_wind_speed\": 4.9125, \"num_sthip\": 0, \"weekday\": 1, \"month\": 6, \"day\": 21, \"hour\": 17, \"air_quality\": \"poor\"}, {\"mean_temp\": 17.43, \"precip\": 0.01, \"mean_wind_speed\": 4.7675, \"num_sthip\": 0, \"weekday\": 1, \"month\": 6, \"day\": 21, \"hour\": 18, \"air_quality\": \"poor\"}, {\"mean_temp\": 17.32, \"precip\": 0.006666666666666667, \"mean_wind_speed\": 4.6175, \"num_sthip\": 0, \"weekday\": 1, \"month\": 6, \"day\": 21, \"hour\": 19, \"air_quality\": \"poor\"}, {\"mean_temp\": 17.206666666666667, \"precip\": 0.0033333333333333335, \"mean_wind_speed\": 4.4725, \"num_sthip\": 0, \"weekday\": 1, \"month\": 6, \"day\": 21, \"hour\": 20, \"air_quality\": \"poor\"}, {\"mean_temp\": 12.853333333333333, \"precip\": 0.0, \"mean_wind_speed\": 3.7824999999999998, \"num_sthip\": 0, \"weekday\": 1, \"month\": 6, \"day\": 21, \"hour\": 21, \"air_quality\": \"very poor\"}, {\"mean_temp\": 12.633333333333335, \"precip\": 0.0, \"mean_wind_speed\": 3.7425, \"num_sthip\": 0, \"weekday\": 1, \"month\": 6, \"day\": 21, \"hour\": 22, \"air_quality\": \"very poor\"}, {\"mean_temp\": 12.413333333333334, \"precip\": 0.0, \"mean_wind_speed\": 3.7024999999999997, \"num_sthip\": 0, \"weekday\": 1, \"month\": 6, \"day\": 21, \"hour\": 23, \"air_quality\": \"very poor\"}, {\"mean_temp\": 12.333333333333334, \"precip\": 0.02, \"mean_wind_speed\": 3.7049999999999996, \"num_sthip\": 0, \"weekday\": 2, \"month\": 6, \"day\": 22, \"hour\": 0, \"air_quality\": \"extremely poor\"}, {\"mean_temp\": 12.25, \"precip\": 0.03666666666666667, \"mean_wind_speed\": 3.705, \"num_sthip\": 0, \"weekday\": 2, \"month\": 6, \"day\": 22, \"hour\": 1, \"air_quality\": \"extremely poor\"}, {\"mean_temp\": 12.170000000000002, \"precip\": 0.05666666666666667, \"mean_wind_speed\": 3.7075, \"num_sthip\": 0, \"weekday\": 2, \"month\": 6, \"day\": 22, \"hour\": 2, \"air_quality\": \"poor\"}, {\"mean_temp\": 12.186666666666667, \"precip\": 0.11666666666666665, \"mean_wind_speed\": 3.7674999999999996, \"num_sthip\": 0, \"weekday\": 2, \"month\": 6, \"day\": 22, \"hour\": 3, \"air_quality\": \"poor\"}, {\"mean_temp\": 12.203333333333333, \"precip\": 0.17666666666666667, \"mean_wind_speed\": 3.8299999999999996, \"num_sthip\": 0, \"weekday\": 2, \"month\": 6, \"day\": 22, \"hour\": 4, \"air_quality\": \"poor\"}, {\"mean_temp\": 12.223333333333334, \"precip\": 0.23666666666666666, \"mean_wind_speed\": 3.8899999999999997, \"num_sthip\": 0, \"weekday\": 2, \"month\": 6, \"day\": 22, \"hour\": 5, \"air_quality\": \"poor\"}, {\"mean_temp\": 12.219999999999999, \"precip\": 0.17666666666666667, \"mean_wind_speed\": 3.9074999999999998, \"num_sthip\": 0, \"weekday\": 2, \"month\": 6, \"day\": 22, \"hour\": 6, \"air_quality\": \"very poor\"}, {\"mean_temp\": 12.219999999999999, \"precip\": 0.11333333333333334, \"mean_wind_speed\": 3.9299999999999997, \"num_sthip\": 0, \"weekday\": 2, \"month\": 6, \"day\": 22, \"hour\": 7, \"air_quality\": \"very poor\"}, {\"mean_temp\": 12.219999999999999, \"precip\": 0.05333333333333334, \"mean_wind_speed\": 3.9475, \"num_sthip\": 0, \"weekday\": 2, \"month\": 6, \"day\": 22, \"hour\": 8, \"air_quality\": \"very poor\"}, {\"mean_temp\": 16.983333333333334, \"precip\": 0.11, \"mean_wind_speed\": 4.966666666666667, \"num_sthip\": 0, \"weekday\": 2, \"month\": 6, \"day\": 22, \"hour\": 9, \"air_quality\": \"poor\"}, {\"mean_temp\": 17.213333333333335, \"precip\": 0.10333333333333335, \"mean_wind_speed\": 4.88, \"num_sthip\": 0, \"weekday\": 2, \"month\": 6, \"day\": 22, \"hour\": 10, \"air_quality\": \"poor\"}, {\"mean_temp\": 17.443333333333335, \"precip\": 0.09333333333333334, \"mean_wind_speed\": 4.79, \"num_sthip\": 0, \"weekday\": 2, \"month\": 6, \"day\": 22, \"hour\": 11, \"air_quality\": \"poor\"}, {\"mean_temp\": 17.753333333333334, \"precip\": 0.11666666666666665, \"mean_wind_speed\": 5.013333333333333, \"num_sthip\": 0, \"weekday\": 2, \"month\": 6, \"day\": 22, \"hour\": 12, \"air_quality\": \"poor\"}, {\"mean_temp\": 18.066666666666666, \"precip\": 0.14, \"mean_wind_speed\": 5.239999999999999, \"num_sthip\": 1, \"weekday\": 2, \"month\": 6, \"day\": 22, \"hour\": 13, \"air_quality\": \"poor\"}, {\"mean_temp\": 18.37666666666667, \"precip\": 0.16333333333333333, \"mean_wind_speed\": 5.463333333333334, \"num_sthip\": 1, \"weekday\": 2, \"month\": 6, \"day\": 22, \"hour\": 14, \"air_quality\": \"poor\"}, {\"mean_temp\": 18.000000000000004, \"precip\": 0.14333333333333334, \"mean_wind_speed\": 5.286666666666666, \"num_sthip\": 2, \"weekday\": 2, \"month\": 6, \"day\": 22, \"hour\": 15, \"air_quality\": \"poor\"}, {\"mean_temp\": 17.62, \"precip\": 0.12333333333333334, \"mean_wind_speed\": 5.11, \"num_sthip\": 2, \"weekday\": 2, \"month\": 6, \"day\": 22, \"hour\": 16, \"air_quality\": \"very poor\"}, {\"mean_temp\": 17.243333333333336, \"precip\": 0.10333333333333335, \"mean_wind_speed\": 4.933333333333334, \"num_sthip\": 2, \"weekday\": 2, \"month\": 6, \"day\": 22, \"hour\": 17, \"air_quality\": \"very poor\"}, {\"mean_temp\": 17.006666666666668, \"precip\": 0.1366666666666667, \"mean_wind_speed\": 4.863333333333333, \"num_sthip\": 2, \"weekday\": 2, \"month\": 6, \"day\": 22, \"hour\": 18, \"air_quality\": \"very poor\"}, {\"mean_temp\": 16.76666666666667, \"precip\": 0.17, \"mean_wind_speed\": 4.796666666666667, \"num_sthip\": 2, \"weekday\": 2, \"month\": 6, \"day\": 22, \"hour\": 19, \"air_quality\": \"very poor\"}, {\"mean_temp\": 16.526666666666667, \"precip\": 0.20333333333333334, \"mean_wind_speed\": 4.726666666666667, \"num_sthip\": 1, \"weekday\": 2, \"month\": 6, \"day\": 22, \"hour\": 20, \"air_quality\": \"very poor\"}, {\"mean_temp\": 11.659999999999998, \"precip\": 0.25666666666666665, \"mean_wind_speed\": 5.1499999999999995, \"num_sthip\": 1, \"weekday\": 2, \"month\": 6, \"day\": 22, \"hour\": 21, \"air_quality\": \"very poor\"}, {\"mean_temp\": 11.596666666666666, \"precip\": 0.31, \"mean_wind_speed\": 5.04, \"num_sthip\": 0, \"weekday\": 2, \"month\": 6, \"day\": 22, \"hour\": 22, \"air_quality\": \"moderate\"}, {\"mean_temp\": 11.53, \"precip\": 0.36333333333333334, \"mean_wind_speed\": 4.93, \"num_sthip\": 0, \"weekday\": 2, \"month\": 6, \"day\": 22, \"hour\": 23, \"air_quality\": \"moderate\"}, {\"mean_temp\": 11.386666666666665, \"precip\": 0.27666666666666667, \"mean_wind_speed\": 4.996666666666666, \"num_sthip\": 0, \"weekday\": 3, \"month\": 6, \"day\": 23, \"hour\": 0, \"air_quality\": \"very poor\"}, {\"mean_temp\": 11.243333333333332, \"precip\": 0.18999999999999997, \"mean_wind_speed\": 5.066666666666666, \"num_sthip\": 0, \"weekday\": 3, \"month\": 6, \"day\": 23, \"hour\": 1, \"air_quality\": \"very poor\"}, {\"mean_temp\": 11.096666666666666, \"precip\": 0.10333333333333335, \"mean_wind_speed\": 5.133333333333333, \"num_sthip\": 0, \"weekday\": 3, \"month\": 6, \"day\": 23, \"hour\": 2, \"air_quality\": \"very poor\"}]}}, {\"mode\": \"vega-lite\"});\n",
       "</script>"
      ],
      "text/plain": [
       "alt.Chart(...)"
      ]
     },
     "execution_count": 49,
     "metadata": {},
     "output_type": "execute_result"
    }
   ],
   "source": [
    "alt.Chart.from_dict({\n",
    "    \"data\": {\n",
    "        \"values\": vis_data\n",
    "    },\n",
    "    \"transform\": [\n",
    "        {\"calculate\": \"datum.day + '/' + datum.month\", \"as\": \"date\"}\n",
    "    ],\n",
    "    \"mark\": \"rect\",\n",
    "    \"encoding\": {\n",
    "        \"y\": {\"field\": \"date\", \"type\": \"ordinal\", \"title\": \"Date\"},\n",
    "        \"x\": {\"field\": \"hour\", \"type\": \"ordinal\", \"title\": \"Time of the day\", \"axis\": {\"labelAngle\": 0}},\n",
    "        \"color\": {\n",
    "            \"field\": \"air_quality\",\n",
    "            \"type\": \"ordinal\",\n",
    "            \"scale\": {\"range\": ['blue', 'green', 'yellow', 'orange', 'red'], \"domain\": ['good','fair','poor','very poor','extremely poor']}\n",
    "        }\n",
    "    }\n",
    "})"
   ]
  },
  {
   "cell_type": "code",
   "execution_count": null,
   "id": "fd1f62c9-56c5-4971-80d3-da97472f2961",
   "metadata": {},
   "outputs": [],
   "source": []
  },
  {
   "cell_type": "code",
   "execution_count": null,
   "id": "06637240-9dbd-4f83-853e-a11062ea5417",
   "metadata": {},
   "outputs": [],
   "source": []
  }
 ],
 "metadata": {
  "kernelspec": {
   "display_name": "Python 3 (ipykernel)",
   "language": "python",
   "name": "python3"
  },
  "language_info": {
   "codemirror_mode": {
    "name": "ipython",
    "version": 3
   },
   "file_extension": ".py",
   "mimetype": "text/x-python",
   "name": "python",
   "nbconvert_exporter": "python",
   "pygments_lexer": "ipython3",
   "version": "3.8.12"
  }
 },
 "nbformat": 4,
 "nbformat_minor": 5
}
